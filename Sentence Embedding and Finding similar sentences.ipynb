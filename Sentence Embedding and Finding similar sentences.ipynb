{
 "cells": [
  {
   "cell_type": "markdown",
   "id": "6f87e957",
   "metadata": {},
   "source": [
    "# Install SentenceTranformer"
   ]
  },
  {
   "cell_type": "markdown",
   "id": "3259b285",
   "metadata": {},
   "source": [
    "https://www.sbert.net/index.html\n",
    "Sentence Tranformer is a python framework for sentence embedding and it also has some utils to find similar sentences. Its based on pytorch and is very easy to use."
   ]
  },
  {
   "cell_type": "code",
   "execution_count": null,
   "id": "d657ed4c",
   "metadata": {},
   "outputs": [],
   "source": [
    "!pip install sentence_transformers"
   ]
  },
  {
   "cell_type": "markdown",
   "id": "65ffe2dc",
   "metadata": {},
   "source": [
    "# Find embedding for sentences"
   ]
  },
  {
   "cell_type": "code",
   "execution_count": 54,
   "id": "c3efe5d4",
   "metadata": {},
   "outputs": [
    {
     "name": "stdout",
     "output_type": "stream",
     "text": [
      "tensor([[ 0.0231,  0.0091, -0.0034,  ...,  0.0315,  0.1159,  0.0116],\n",
      "        [ 0.0097,  0.1495,  0.0064,  ...,  0.0608,  0.0304,  0.0521],\n",
      "        [ 0.0093, -0.0191,  0.0488,  ...,  0.0649,  0.0221,  0.0260],\n",
      "        [ 0.0338,  0.0065, -0.0824,  ...,  0.0313,  0.1070,  0.0199],\n",
      "        [-0.0116,  0.0609, -0.0174,  ...,  0.0740,  0.0490,  0.0823]])\n"
     ]
    }
   ],
   "source": [
    "from sentence_transformers import SentenceTransformer\n",
    "\n",
    "# We can use any of the pretrained models \n",
    "# https://www.sbert.net/docs/pretrained_models.html#sentence-embedding-models/\n",
    "model = SentenceTransformer('all-MiniLM-L6-v2')\n",
    "\n",
    "# Let us define the sentences for which we need to find the embeddings\n",
    "sentence_list = [\"The baby cried for milk\", \n",
    "             \"The car drove away.\", \n",
    "             \"Dog lives in kennel\",\n",
    "             \"The baby laughed\", \n",
    "             \"The kid was playing\"]\n",
    "\n",
    "sentence_embeddings = model.encode(sentence_list, convert_to_tensor=True)\n",
    "\n",
    "# Let us pring the embeddings to see how it looks\n",
    "print(sentence_embeddings)"
   ]
  },
  {
   "cell_type": "markdown",
   "id": "71f47abf",
   "metadata": {},
   "source": [
    "## Analyze the size of embeddings"
   ]
  },
  {
   "cell_type": "code",
   "execution_count": 53,
   "id": "490ca50f",
   "metadata": {},
   "outputs": [
    {
     "data": {
      "text/plain": [
       "torch.Size([5, 384])"
      ]
     },
     "execution_count": 53,
     "metadata": {},
     "output_type": "execute_result"
    }
   ],
   "source": [
    "sentence_embeddings.shape"
   ]
  },
  {
   "cell_type": "markdown",
   "id": "57210399",
   "metadata": {},
   "source": [
    "As we can see the dimension of the embedding vector produced by all-MiniLM-L6-v2 is 384"
   ]
  },
  {
   "cell_type": "markdown",
   "id": "9552cdbc",
   "metadata": {},
   "source": [
    "# We will use 2 approaches to find similar sentences\n",
    "In Approach 1, we will use the Util module from SentenceTransformer\n",
    "In Approach 2, we will use Facebook AI Similarity Search (Faiss) library"
   ]
  },
  {
   "cell_type": "markdown",
   "id": "1c0607ac",
   "metadata": {},
   "source": [
    "# Approach 1 Find similar sentences using SentenceTransformer Util"
   ]
  },
  {
   "cell_type": "code",
   "execution_count": null,
   "id": "fad5c865",
   "metadata": {},
   "outputs": [],
   "source": [
    "SentenceTransformer has some utils to find similar sentences."
   ]
  },
  {
   "cell_type": "markdown",
   "id": "9a39c564",
   "metadata": {},
   "source": [
    "Let us say we want user to input a query and find the most similar sentences from the above sentence list"
   ]
  },
  {
   "cell_type": "code",
   "execution_count": 58,
   "id": "2b788790",
   "metadata": {},
   "outputs": [
    {
     "data": {
      "text/plain": [
       "(1, 384)"
      ]
     },
     "execution_count": 58,
     "metadata": {},
     "output_type": "execute_result"
    }
   ],
   "source": [
    "user_query = [\"The baby cried for food\"]\n",
    "user_query_embedding = model.encode(user_query)\n",
    "user_query_embedding.shape"
   ]
  },
  {
   "cell_type": "code",
   "execution_count": null,
   "id": "92126f22",
   "metadata": {},
   "outputs": [],
   "source": [
    "Find cosine similarity scores between the user query and the sentences"
   ]
  },
  {
   "cell_type": "code",
   "execution_count": 59,
   "id": "c99f52a7",
   "metadata": {},
   "outputs": [
    {
     "data": {
      "text/plain": [
       "[0.8192180395126343,\n",
       " 0.16249854862689972,\n",
       " 0.0750042274594307,\n",
       " 0.6280651688575745,\n",
       " 0.30924367904663086]"
      ]
     },
     "execution_count": 59,
     "metadata": {},
     "output_type": "execute_result"
    }
   ],
   "source": [
    "from sentence_transformers import util\n",
    "cosine_scores = util.cos_sim( user_query_embedding,sentence_embeddings)\n",
    "cosine_scores = cosine_scores[0].tolist()\n",
    "cosine_scores"
   ]
  },
  {
   "cell_type": "markdown",
   "id": "92851827",
   "metadata": {},
   "source": [
    "### combine sentences and cosine_scores"
   ]
  },
  {
   "cell_type": "code",
   "execution_count": 60,
   "id": "369c084b",
   "metadata": {},
   "outputs": [
    {
     "data": {
      "text/plain": [
       "[('The baby cried for milk', 0.8192180395126343),\n",
       " ('The car drove away.', 0.16249854862689972),\n",
       " ('Dog lives in kennel', 0.0750042274594307),\n",
       " ('The baby laughed', 0.6280651688575745),\n",
       " ('The kid was playing', 0.30924367904663086)]"
      ]
     },
     "execution_count": 60,
     "metadata": {},
     "output_type": "execute_result"
    }
   ],
   "source": [
    "# combine sentences & cosine_scores\n",
    "sentence_and_scores = list(zip(sentence_list, cosine_scores))\n",
    "sentence_and_scores"
   ]
  },
  {
   "cell_type": "markdown",
   "id": "247d8335",
   "metadata": {},
   "source": [
    "### Higher scores means most similar and lower scores means less similar"
   ]
  },
  {
   "cell_type": "code",
   "execution_count": 61,
   "id": "ae87736e",
   "metadata": {},
   "outputs": [
    {
     "name": "stdout",
     "output_type": "stream",
     "text": [
      "user_query ['The baby cried for food']\n",
      "sentence_and_scores\n",
      "('The baby cried for milk', 0.8192180395126343)\n",
      "('The baby laughed', 0.6280651688575745)\n",
      "('The kid was playing', 0.30924367904663086)\n",
      "('The car drove away.', 0.16249854862689972)\n",
      "('Dog lives in kennel', 0.0750042274594307)\n"
     ]
    }
   ],
   "source": [
    "\n",
    "#Sort by descending order of score. In other words, from most similar to least similar\n",
    "sentence_and_scores = sorted(sentence_and_scores, key=lambda y: y[1], reverse=True)\n",
    "\n",
    "print ('user_query',user_query)\n",
    "\n",
    "print ('sentence_and_scores')\n",
    "for i in sentence_and_scores:\n",
    "    print(i)\n",
    "\n"
   ]
  },
  {
   "cell_type": "markdown",
   "id": "e821d1d4",
   "metadata": {},
   "source": [
    "As we can see from above, The sentence ''The baby cried for milk'' is most similar to user query and 'Dog lives in kennel' is least similar\n"
   ]
  },
  {
   "cell_type": "code",
   "execution_count": null,
   "id": "24d7b113",
   "metadata": {},
   "outputs": [],
   "source": []
  },
  {
   "cell_type": "code",
   "execution_count": null,
   "id": "8915fb1d",
   "metadata": {},
   "outputs": [],
   "source": []
  },
  {
   "cell_type": "markdown",
   "id": "09ec8b90",
   "metadata": {},
   "source": [
    "# Approach 2 Find similar sentences using Facebook AI Similarity Search (Faiss) library"
   ]
  },
  {
   "cell_type": "code",
   "execution_count": null,
   "id": "2b97e65a",
   "metadata": {},
   "outputs": [],
   "source": [
    "https://engineering.fb.com/2017/03/29/data-infrastructure/faiss-a-library-for-efficient-similarity-search/"
   ]
  },
  {
   "cell_type": "markdown",
   "id": "7b89b302",
   "metadata": {},
   "source": [
    "## Install Faiss"
   ]
  },
  {
   "cell_type": "code",
   "execution_count": 67,
   "id": "2ba701e4",
   "metadata": {},
   "outputs": [
    {
     "name": "stderr",
     "output_type": "stream",
     "text": [
      "huggingface/tokenizers: The current process just got forked, after parallelism has already been used. Disabling parallelism to avoid deadlocks...\n",
      "To disable this warning, you can either:\n",
      "\t- Avoid using `tokenizers` before the fork if possible\n",
      "\t- Explicitly set the environment variable TOKENIZERS_PARALLELISM=(true | false)\n"
     ]
    },
    {
     "name": "stdout",
     "output_type": "stream",
     "text": [
      "\r\n",
      "\u001b[1m[\u001b[0m\u001b[34;49mnotice\u001b[0m\u001b[1;39;49m]\u001b[0m\u001b[39;49m A new release of pip available: \u001b[0m\u001b[31;49m22.2.2\u001b[0m\u001b[39;49m -> \u001b[0m\u001b[32;49m23.3.2\u001b[0m\r\n",
      "\u001b[1m[\u001b[0m\u001b[34;49mnotice\u001b[0m\u001b[1;39;49m]\u001b[0m\u001b[39;49m To update, run: \u001b[0m\u001b[32;49mpip install --upgrade pip\u001b[0m\r\n"
     ]
    }
   ],
   "source": [
    "!pip install faiss-cpu -qU"
   ]
  },
  {
   "cell_type": "code",
   "execution_count": 68,
   "id": "5cec2fac",
   "metadata": {},
   "outputs": [
    {
     "data": {
      "text/plain": [
       "(1, 384)"
      ]
     },
     "execution_count": 68,
     "metadata": {},
     "output_type": "execute_result"
    }
   ],
   "source": [
    "user_query = [\"The baby cried for food\"]\n",
    "user_query_embedding = model.encode(user_query)\n",
    "user_query_embedding.shape"
   ]
  },
  {
   "cell_type": "code",
   "execution_count": 69,
   "id": "1c313ec6",
   "metadata": {},
   "outputs": [],
   "source": [
    "import faiss"
   ]
  },
  {
   "cell_type": "markdown",
   "id": "5619e715",
   "metadata": {},
   "source": [
    "## create Index and add the sentence embedding vectors to the index"
   ]
  },
  {
   "cell_type": "code",
   "execution_count": 70,
   "id": "ef3a6786",
   "metadata": {},
   "outputs": [
    {
     "data": {
      "text/plain": [
       "<faiss.swigfaiss.IndexFlatL2; proxy of <Swig Object of type 'faiss::IndexFlatL2 *' at 0x2b2e49cc0> >"
      ]
     },
     "execution_count": 70,
     "metadata": {},
     "output_type": "execute_result"
    }
   ],
   "source": [
    "dimension= list(sentence_embeddings[0].shape)[0]\n",
    "sentence_index = faiss.IndexFlatL2(dimension)\n",
    "sentence_index"
   ]
  },
  {
   "cell_type": "code",
   "execution_count": 71,
   "id": "a9dd2556",
   "metadata": {},
   "outputs": [
    {
     "data": {
      "text/plain": [
       "5"
      ]
     },
     "execution_count": 71,
     "metadata": {},
     "output_type": "execute_result"
    }
   ],
   "source": [
    "sentence_index.add(sentence_embeddings)\n",
    "sentence_index.ntotal"
   ]
  },
  {
   "cell_type": "code",
   "execution_count": null,
   "id": "08c7184e",
   "metadata": {},
   "outputs": [],
   "source": [
    "As we can see, all the 5 sentence embeddings have been indexed."
   ]
  },
  {
   "cell_type": "markdown",
   "id": "32644a80",
   "metadata": {},
   "source": [
    "## search index for the vectors similar to user query"
   ]
  },
  {
   "cell_type": "code",
   "execution_count": 72,
   "id": "a6d87c01",
   "metadata": {},
   "outputs": [
    {
     "name": "stdout",
     "output_type": "stream",
     "text": [
      "Distances [[0.36156428 0.74386954 1.3815129  1.6750029  1.8499917 ]]\n",
      "Index [[0 3 4 1 2]]\n"
     ]
    }
   ],
   "source": [
    "top_k = 5 # let us say we want top 5 matches\n",
    "# search the index\n",
    "D, I = sentence_index.search(user_query_embedding, top_k)  \n",
    "print ('Distances', D)\n",
    "print ('Index', I)"
   ]
  },
  {
   "cell_type": "markdown",
   "id": "dcc9145f",
   "metadata": {},
   "source": [
    "# Above gives the distances and index in sorted order. The most similar ones appear at the top of the list and the least similar ones at the bottom.\n",
    "For example, index 0 with distance 0.36156428 is at the top of the list. This corresponds to the original sentence\n",
    "\"The baby cried for milk\".\n",
    "The next similar one is index 3 with distance of 0.74386954. This corresponds to the original sentence\n",
    "\"The baby laughed\"."
   ]
  },
  {
   "cell_type": "code",
   "execution_count": 35,
   "id": "f3275911",
   "metadata": {},
   "outputs": [
    {
     "data": {
      "text/plain": [
       "numpy.ndarray"
      ]
     },
     "execution_count": 35,
     "metadata": {},
     "output_type": "execute_result"
    }
   ],
   "source": [
    "type(I[0])"
   ]
  },
  {
   "cell_type": "markdown",
   "id": "e657b89e",
   "metadata": {},
   "source": [
    "### Combine sentences and index based on similarity index order provided by I"
   ]
  },
  {
   "cell_type": "code",
   "execution_count": 73,
   "id": "9ec1dbc4",
   "metadata": {},
   "outputs": [
    {
     "data": {
      "text/html": [
       "<div>\n",
       "<style scoped>\n",
       "    .dataframe tbody tr th:only-of-type {\n",
       "        vertical-align: middle;\n",
       "    }\n",
       "\n",
       "    .dataframe tbody tr th {\n",
       "        vertical-align: top;\n",
       "    }\n",
       "\n",
       "    .dataframe thead th {\n",
       "        text-align: right;\n",
       "    }\n",
       "</style>\n",
       "<table border=\"1\" class=\"dataframe\">\n",
       "  <thead>\n",
       "    <tr style=\"text-align: right;\">\n",
       "      <th></th>\n",
       "      <th>similarity_index</th>\n",
       "    </tr>\n",
       "  </thead>\n",
       "  <tbody>\n",
       "    <tr>\n",
       "      <th>0</th>\n",
       "      <td>0</td>\n",
       "    </tr>\n",
       "    <tr>\n",
       "      <th>1</th>\n",
       "      <td>3</td>\n",
       "    </tr>\n",
       "    <tr>\n",
       "      <th>2</th>\n",
       "      <td>4</td>\n",
       "    </tr>\n",
       "    <tr>\n",
       "      <th>3</th>\n",
       "      <td>1</td>\n",
       "    </tr>\n",
       "    <tr>\n",
       "      <th>4</th>\n",
       "      <td>2</td>\n",
       "    </tr>\n",
       "  </tbody>\n",
       "</table>\n",
       "</div>"
      ],
      "text/plain": [
       "   similarity_index\n",
       "0                 0\n",
       "1                 3\n",
       "2                 4\n",
       "3                 1\n",
       "4                 2"
      ]
     },
     "execution_count": 73,
     "metadata": {},
     "output_type": "execute_result"
    }
   ],
   "source": [
    "import pandas as pd\n",
    "similarity_data_df = pd.DataFrame({'similarity_index': I[0]})\n",
    "similarity_data_df\n"
   ]
  },
  {
   "cell_type": "code",
   "execution_count": 74,
   "id": "0b68bed8",
   "metadata": {},
   "outputs": [
    {
     "data": {
      "text/html": [
       "<div>\n",
       "<style scoped>\n",
       "    .dataframe tbody tr th:only-of-type {\n",
       "        vertical-align: middle;\n",
       "    }\n",
       "\n",
       "    .dataframe tbody tr th {\n",
       "        vertical-align: top;\n",
       "    }\n",
       "\n",
       "    .dataframe thead th {\n",
       "        text-align: right;\n",
       "    }\n",
       "</style>\n",
       "<table border=\"1\" class=\"dataframe\">\n",
       "  <thead>\n",
       "    <tr style=\"text-align: right;\">\n",
       "      <th></th>\n",
       "      <th>sentences</th>\n",
       "    </tr>\n",
       "  </thead>\n",
       "  <tbody>\n",
       "    <tr>\n",
       "      <th>0</th>\n",
       "      <td>The baby cried for milk</td>\n",
       "    </tr>\n",
       "    <tr>\n",
       "      <th>1</th>\n",
       "      <td>The car drove away.</td>\n",
       "    </tr>\n",
       "    <tr>\n",
       "      <th>2</th>\n",
       "      <td>Dog lives in kennel</td>\n",
       "    </tr>\n",
       "    <tr>\n",
       "      <th>3</th>\n",
       "      <td>The baby laughed</td>\n",
       "    </tr>\n",
       "    <tr>\n",
       "      <th>4</th>\n",
       "      <td>The kid was playing</td>\n",
       "    </tr>\n",
       "  </tbody>\n",
       "</table>\n",
       "</div>"
      ],
      "text/plain": [
       "                 sentences\n",
       "0  The baby cried for milk\n",
       "1      The car drove away.\n",
       "2      Dog lives in kennel\n",
       "3         The baby laughed\n",
       "4      The kid was playing"
      ]
     },
     "execution_count": 74,
     "metadata": {},
     "output_type": "execute_result"
    }
   ],
   "source": [
    "\n",
    "sentence_df = pd.DataFrame(sentence_list, columns= ['sentences'])\n",
    "sentence_df"
   ]
  },
  {
   "cell_type": "code",
   "execution_count": 75,
   "id": "fb336518",
   "metadata": {},
   "outputs": [
    {
     "data": {
      "text/html": [
       "<div>\n",
       "<style scoped>\n",
       "    .dataframe tbody tr th:only-of-type {\n",
       "        vertical-align: middle;\n",
       "    }\n",
       "\n",
       "    .dataframe tbody tr th {\n",
       "        vertical-align: top;\n",
       "    }\n",
       "\n",
       "    .dataframe thead th {\n",
       "        text-align: right;\n",
       "    }\n",
       "</style>\n",
       "<table border=\"1\" class=\"dataframe\">\n",
       "  <thead>\n",
       "    <tr style=\"text-align: right;\">\n",
       "      <th></th>\n",
       "      <th>similarity_index</th>\n",
       "      <th>sentences</th>\n",
       "    </tr>\n",
       "  </thead>\n",
       "  <tbody>\n",
       "    <tr>\n",
       "      <th>0</th>\n",
       "      <td>0</td>\n",
       "      <td>The baby cried for milk</td>\n",
       "    </tr>\n",
       "    <tr>\n",
       "      <th>3</th>\n",
       "      <td>1</td>\n",
       "      <td>The baby laughed</td>\n",
       "    </tr>\n",
       "    <tr>\n",
       "      <th>4</th>\n",
       "      <td>2</td>\n",
       "      <td>The kid was playing</td>\n",
       "    </tr>\n",
       "    <tr>\n",
       "      <th>1</th>\n",
       "      <td>3</td>\n",
       "      <td>The car drove away.</td>\n",
       "    </tr>\n",
       "    <tr>\n",
       "      <th>2</th>\n",
       "      <td>4</td>\n",
       "      <td>Dog lives in kennel</td>\n",
       "    </tr>\n",
       "  </tbody>\n",
       "</table>\n",
       "</div>"
      ],
      "text/plain": [
       "   similarity_index                sentences\n",
       "0                 0  The baby cried for milk\n",
       "3                 1         The baby laughed\n",
       "4                 2      The kid was playing\n",
       "1                 3      The car drove away.\n",
       "2                 4      Dog lives in kennel"
      ]
     },
     "execution_count": 75,
     "metadata": {},
     "output_type": "execute_result"
    }
   ],
   "source": [
    "user_query_similar_sentence_df = pd.merge(similarity_data_df,sentence_df,left_index=True,right_index=True)\n",
    "\n",
    "user_query_similar_sentence_df.sort_values(by='similarity_index')"
   ]
  },
  {
   "cell_type": "markdown",
   "id": "657256b4",
   "metadata": {},
   "source": [
    "As we can see from above, The sentence ''The baby cried for milk'' is most similar to user query and 'Dog lives in kennel' is least similar.\n",
    "The result is same as the one we obtained by using the Sentencetransformer Util."
   ]
  }
 ],
 "metadata": {
  "kernelspec": {
   "display_name": "Python 3 (ipykernel)",
   "language": "python",
   "name": "python3"
  },
  "language_info": {
   "codemirror_mode": {
    "name": "ipython",
    "version": 3
   },
   "file_extension": ".py",
   "mimetype": "text/x-python",
   "name": "python",
   "nbconvert_exporter": "python",
   "pygments_lexer": "ipython3",
   "version": "3.9.10"
  }
 },
 "nbformat": 4,
 "nbformat_minor": 5
}
